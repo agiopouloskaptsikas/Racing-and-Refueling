{
  "metadata": {
    "kernelspec": {
      "language": "python",
      "display_name": "Python 3",
      "name": "python3"
    },
    "language_info": {
      "pygments_lexer": "ipython3",
      "nbconvert_exporter": "python",
      "version": "3.6.4",
      "file_extension": ".py",
      "codemirror_mode": {
        "name": "ipython",
        "version": 3
      },
      "name": "python",
      "mimetype": "text/x-python"
    },
    "colab": {
      "provenance": [],
      "include_colab_link": true
    }
  },
  "nbformat_minor": 0,
  "nbformat": 4,
  "cells": [
    {
      "cell_type": "markdown",
      "metadata": {
        "id": "view-in-github",
        "colab_type": "text"
      },
      "source": [
        "<a href=\"https://colab.research.google.com/github/agiopouloskaptsikas/Racing-and-Refueling/blob/main/focs-programming-assignment-solution.ipynb\" target=\"_parent\"><img src=\"https://colab.research.google.com/assets/colab-badge.svg\" alt=\"Open In Colab\"/></a>"
      ]
    },
    {
      "cell_type": "code",
      "source": [
        "!pip install igraph"
      ],
      "metadata": {
        "id": "c0BXDPp40yCa",
        "outputId": "e586aa1e-d4c1-4215-b8b9-3a1382e70f47",
        "colab": {
          "base_uri": "https://localhost:8080/"
        }
      },
      "execution_count": 1,
      "outputs": [
        {
          "output_type": "stream",
          "name": "stdout",
          "text": [
            "Looking in indexes: https://pypi.org/simple, https://us-python.pkg.dev/colab-wheels/public/simple/\n",
            "Collecting igraph\n",
            "  Downloading igraph-0.10.1-cp37-cp37m-manylinux_2_17_x86_64.manylinux2014_x86_64.whl (3.2 MB)\n",
            "\u001b[K     |████████████████████████████████| 3.2 MB 8.6 MB/s \n",
            "\u001b[?25hCollecting texttable>=1.6.2\n",
            "  Downloading texttable-1.6.4-py2.py3-none-any.whl (10 kB)\n",
            "Installing collected packages: texttable, igraph\n",
            "Successfully installed igraph-0.10.1 texttable-1.6.4\n"
          ]
        }
      ]
    },
    {
      "cell_type": "code",
      "source": [
        "from google.colab import files\n",
        "import numpy as np\n",
        "import igraph as ig"
      ],
      "metadata": {
        "id": "TFz9XJOC0qFX"
      },
      "execution_count": 2,
      "outputs": []
    },
    {
      "cell_type": "code",
      "source": [
        "# please, upload your input and output files\n",
        "files.upload()"
      ],
      "metadata": {
        "execution": {
          "iopub.status.busy": "2022-09-27T20:58:46.837630Z",
          "iopub.execute_input": "2022-09-27T20:58:46.838102Z",
          "iopub.status.idle": "2022-09-27T20:58:46.988447Z",
          "shell.execute_reply.started": "2022-09-27T20:58:46.838009Z",
          "shell.execute_reply": "2022-09-27T20:58:46.987605Z"
        },
        "trusted": true,
        "id": "Fl_JTh3YzRVV"
      },
      "execution_count": null,
      "outputs": []
    },
    {
      "cell_type": "code",
      "source": [
        "class racing_and_refueling:\n",
        "        \n",
        "    def __init__(self, input_path):\n",
        "        \n",
        "        self.input_path = input_path\n",
        "        \n",
        "        ######################################################################################\n",
        "        # [1] ---------- HERE ARE FUNCTIONS THAT ARE USED INSIDE THE __init__ METHOD - START #\n",
        "        ######################################################################################\n",
        "        \n",
        "        def fix_line(line, mode):\n",
        "            '''\n",
        "            Inputs\n",
        "                1. line: a line from the input text file that has to be fixed, i.e. strip, split, convert to integer\n",
        "                2. mode: type of the line, either one of I (info), M (lines that describe a road), C (lines that describe a city\n",
        "                in the racing route), or S (lines that describe a gas station)\n",
        "            Outputs\n",
        "                1. the contents of the given line in stripped (all modes), split (modes C and S), and integer (all modes) form\n",
        "            '''\n",
        "            if mode == \"I\":\n",
        "                # input: \"1 2 3 4 5\\n\"\n",
        "                # output: (1, 2, 3, 4, 5)\n",
        "                return tuple(map(int, line.strip().split()))\n",
        "            elif mode == \"M\":\n",
        "                # input: \"1 2 3\\n\"\n",
        "                    # -(strip)-> \"1 2 3\"\n",
        "                    # -(split)-> [\"1\", \"2\", \"3\"]\n",
        "                    # -(int)-> [1, 2, 3]\n",
        "                    # -(lambda x: x - 1)-> easier to construct the adjacency matrix + refer to vertices and edges in igraph syntax\n",
        "                    #                                                                 ... igraph works better with indices\n",
        "                # output: [0, 1, 2]\n",
        "                return tuple(map(lambda x: x - 1, list(map(int, line.strip().split()))))\n",
        "            else:\n",
        "                # ... igraph works better with indices\n",
        "                return int(line.strip()) - 1\n",
        "            \n",
        "        ####################################################################################    \n",
        "        # [1] ---------- HERE ARE FUNCTIONS THAT ARE USED INSIDE THE __init__ METHOD - END #\n",
        "        ####################################################################################\n",
        "        \n",
        "        ##################################################\n",
        "        ########## MAIN __init__ METHOD - START ##########\n",
        "        ##################################################\n",
        "        \n",
        "        with open(self.input_path, \"r\") as input_file:\n",
        "            # get the content of the text file into an iterator, named \"lines\"\n",
        "            lines = input_file.readlines()\n",
        "\n",
        "        # for the 1st line, use its corresponding information to store the values\n",
        "        # (N, M, K, L, B), which will be used to construct the \"for-loop\" below\n",
        "        (self.N, self.M, self.K, self.L, self.B) = fix_line(lines[0], \"I\")\n",
        "        # increment the no_of_line counter, since nothing else has left to do for the 1st line\n",
        "\n",
        "        # now that we have enough information about the size of the graph, i.e. N, we can\n",
        "        # initialize it, as an adjacency matrix, with dimentions: (N, N) and data type: integer\n",
        "        self.weighted_adjacency_matrix = np.zeros((self.N, self.N), dtype = int)\n",
        "        # for the next M lines, use the corresponding information to populate the adjacency matrix\n",
        "        for line in lines[1 : (self.M + 1)]:\n",
        "            line = fix_line(line, \"M\")\n",
        "            self.weighted_adjacency_matrix[line[0], line[1]] = self.weighted_adjacency_matrix[line[1], line[0]] = line[2] + 1\n",
        "            \n",
        "        # construct the graph representation of the input file\n",
        "        self.graph = ig.Graph.Weighted_Adjacency(self.weighted_adjacency_matrix.tolist())\n",
        "\n",
        "        self.racing_route = []\n",
        "        # for the next K lines, use the corresponding information to construct the racing route\n",
        "        for line in lines[(self.M + 1) : (self.M + self.K + 1)]:\n",
        "            self.racing_route.append(fix_line(line, \"C\"))\n",
        "\n",
        "        self.gas_stations = []\n",
        "        # for the next M lines, use the corresponding information to construct the gas stations' locations\n",
        "        for line in lines[(self.M + self.K + 1):]:\n",
        "            self.gas_stations.append(fix_line(line, \"S\"))\n",
        "\n",
        "        ################################################    \n",
        "        ########## MAIN __init__ METHOD - END ##########\n",
        "        ################################################    \n",
        "            \n",
        "    def __call__(self):\n",
        "        \n",
        "        #######################################################################################\n",
        "        # [1] ---------- HERE IS FUNCTION [1] THAT IS USED INSIDE THE __call__ METHOD - START #\n",
        "        #######################################################################################\n",
        "        \n",
        "        def distance_racing_route(racing_route):\n",
        "            '''\n",
        "            Inputs\n",
        "                1. racing_route\n",
        "            Outputs\n",
        "                1. total time to traverse the racing route\n",
        "            '''\n",
        "            \n",
        "            return sum([self.weighted_adjacency_matrix[self.racing_route[i], self.racing_route[i + 1]] for i in range(len(self.racing_route) - 1)])\n",
        "        \n",
        "        #####################################################################################\n",
        "        # [1] ---------- HERE IS FUNCTION [1] THAT IS USED INSIDE THE __call__ METHOD - END #\n",
        "        #####################################################################################\n",
        "        \n",
        "        #######################################################################################\n",
        "        # [2] ---------- HERE IS FUNCTION [2] THAT IS USED INSIDE THE __call__ METHOD - START #\n",
        "        #######################################################################################\n",
        "        \n",
        "        def shortest_distance_from_gas_stations(graph, city, gas_stations):\n",
        "            '''\n",
        "            Inputs\n",
        "                1. graph: the graph representation of the input\n",
        "                2. city: a city of the racing route, from which the distance to the closest gas station will be calculated\n",
        "                3. gas_stations: all of the available gas stations\n",
        "            Outputs\n",
        "                1. the minimum time required to travel from the closest gas station to the city of the racing route that\n",
        "                was passed in the input argument: city\n",
        "            '''\n",
        "    \n",
        "            # calculate the shortest *paths* from the city of the racing route to every reachable gas station\n",
        "            # it is a list of B lists: [[path(S_1, C)], [path(S_2, C)], ..., [path(S_B, C)]], where each of the inner lists\n",
        "            # correpsond to the shortest *path* (not distance, yet) from S_i to the specified city, C, of the racing route\n",
        "            shortest_paths_from_gas_stations = graph.get_shortest_paths(city,\n",
        "                to = gas_stations, weights = graph.es[\"weight\"], output = \"epath\")\n",
        "\n",
        "            # a list to store the shortest *distances* from S_1, ..., S_B to C\n",
        "            shortest_distances = []\n",
        "            # for each *path*: path(S_1, C), ..., path(S_B, C) ...\n",
        "            for path in shortest_paths_from_gas_stations:\n",
        "                # ... convert it to its *distance* equivalent: distance(S_1, C), ..., distance(S_B, C)\n",
        "                distance = 0\n",
        "                # if a path has length == 0, then the gas station is not reachable from the city\n",
        "                # so, the if statement, below, protects from such cases\n",
        "                if (len(path) > 0):\n",
        "                    for edge in path:\n",
        "                        distance += int(graph.es[edge][\"weight\"])\n",
        "                    # this is *inside* the if clause, in order to prevent 0's from entering the shortest_distances\n",
        "                    # 0's will cause bugs that are not traceable\n",
        "                    shortest_distances.append(distance)\n",
        "\n",
        "            # we return the shortest distance (in sec) from the closest gas station to the specified city\n",
        "            # this is, simply, the minimum element of the shortest_distances list\n",
        "            return min(shortest_distances)\n",
        "        \n",
        "        #####################################################################################\n",
        "        # [2] ---------- HERE IS FUNCTION [2] THAT IS USED INSIDE THE __call__ METHOD - END #\n",
        "        #####################################################################################\n",
        "        \n",
        "        ##################################################\n",
        "        ########## MAIN __call__ METHOD - START ##########\n",
        "        ##################################################\n",
        "        \n",
        "        # calculate the distance (in sec) to traverse the racing route\n",
        "        length_racing_route = distance_racing_route(racing_route = self.racing_route)\n",
        "\n",
        "        # for each city of the racing route: C_2, ..., C_K-1\n",
        "        # calculate the (shortest) distance to the nearest gas station\n",
        "        # and store it into distance_gas_stations\n",
        "        distance_gas_stations = []\n",
        "        for city in self.racing_route[1:-1]:\n",
        "            distance_gas_stations.append(shortest_distance_from_gas_stations(graph = self.graph,\n",
        "                                                                             city = city,\n",
        "                                                                             gas_stations = self.gas_stations))\n",
        "\n",
        "        # now that we have the shortest distances from every city of the racing route to their nearest gas station\n",
        "        # sort those shortest distances, in ascending order, ...\n",
        "        distance_gas_stations = sorted(distance_gas_stations)\n",
        "\n",
        "        # ... and add the sum of the L shortest distances to distance_racing_route\n",
        "        # then, return the resulted quantity, which is the minimum time required to complete the race\n",
        "        return length_racing_route + sum(distance_gas_stations[:self.L])\n",
        "    \n",
        "        ################################################\n",
        "        ########## MAIN __call__ METHOD - END ##########\n",
        "        ################################################"
      ],
      "metadata": {
        "execution": {
          "iopub.status.busy": "2022-09-27T20:58:51.191767Z",
          "iopub.execute_input": "2022-09-27T20:58:51.192382Z",
          "iopub.status.idle": "2022-09-27T20:58:51.215774Z",
          "shell.execute_reply.started": "2022-09-27T20:58:51.192335Z",
          "shell.execute_reply": "2022-09-27T20:58:51.214328Z"
        },
        "trusted": true,
        "id": "qdZMg-1YzRVW"
      },
      "execution_count": 8,
      "outputs": []
    },
    {
      "cell_type": "code",
      "source": [
        "racing_and_refueling_example = racing_and_refueling(input_path = \"/content/input4.txt\")\n",
        "output = racing_and_refueling_example()"
      ],
      "metadata": {
        "execution": {
          "iopub.status.busy": "2022-09-27T20:58:52.031860Z",
          "iopub.execute_input": "2022-09-27T20:58:52.032263Z",
          "iopub.status.idle": "2022-09-27T20:58:52.123090Z",
          "shell.execute_reply.started": "2022-09-27T20:58:52.032228Z",
          "shell.execute_reply": "2022-09-27T20:58:52.122136Z"
        },
        "trusted": true,
        "id": "tM1XglOnzRVY"
      },
      "execution_count": 11,
      "outputs": []
    },
    {
      "cell_type": "code",
      "source": [
        "output"
      ],
      "metadata": {
        "execution": {
          "iopub.status.busy": "2022-09-27T20:58:53.800247Z",
          "iopub.execute_input": "2022-09-27T20:58:53.801282Z",
          "iopub.status.idle": "2022-09-27T20:58:53.810478Z",
          "shell.execute_reply.started": "2022-09-27T20:58:53.801244Z",
          "shell.execute_reply": "2022-09-27T20:58:53.809208Z"
        },
        "trusted": true,
        "id": "hUKG6wjBzRVZ",
        "outputId": "31901393-0236-470a-f472-4badd8668d25",
        "colab": {
          "base_uri": "https://localhost:8080/"
        }
      },
      "execution_count": 12,
      "outputs": [
        {
          "output_type": "execute_result",
          "data": {
            "text/plain": [
              "96150523"
            ]
          },
          "metadata": {},
          "execution_count": 12
        }
      ]
    }
  ]
}